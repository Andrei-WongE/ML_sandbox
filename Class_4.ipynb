{
  "nbformat": 4,
  "nbformat_minor": 0,
  "metadata": {
    "colab": {
      "provenance": [],
      "collapsed_sections": [
        "j35cI0oCJsKL",
        "0bsA5UJhJ30x"
      ],
      "authorship_tag": "ABX9TyMxjpS7b1MRlO75y6/taUrf",
      "include_colab_link": true
    },
    "kernelspec": {
      "name": "python3",
      "display_name": "Python 3"
    },
    "language_info": {
      "name": "python"
    }
  },
  "cells": [
    {
      "cell_type": "markdown",
      "metadata": {
        "id": "view-in-github",
        "colab_type": "text"
      },
      "source": [
        "<a href=\"https://colab.research.google.com/github/Andrei-WongE/ML_sandbox/blob/origin/Class_4.ipynb\" target=\"_parent\"><img src=\"https://colab.research.google.com/assets/colab-badge.svg\" alt=\"Open In Colab\"/></a>"
      ]
    },
    {
      "cell_type": "markdown",
      "source": [
        "\n",
        "# Mount Drive\n"
      ],
      "metadata": {
        "id": "j35cI0oCJsKL"
      }
    },
    {
      "cell_type": "code",
      "execution_count": null,
      "metadata": {
        "colab": {
          "base_uri": "https://localhost:8080/"
        },
        "id": "mCP5IRrPJU5q",
        "outputId": "afd7494e-0132-4685-e479-cd389ccc0bfc"
      },
      "outputs": [
        {
          "output_type": "stream",
          "name": "stdout",
          "text": [
            "Mounted at /content/drive\n"
          ]
        }
      ],
      "source": [
        "#Import drive library\n",
        "from google.colab import drive\n",
        "\n",
        "#mount location\n",
        "drive.mount('/content/drive')"
      ]
    },
    {
      "cell_type": "markdown",
      "source": [
        "#Change Working directory"
      ],
      "metadata": {
        "id": "0bsA5UJhJ30x"
      }
    },
    {
      "cell_type": "code",
      "source": [
        "#OS from python\n",
        "import os\n",
        "\n",
        "mount = '/content/drive'\n",
        "drive_root = mount + \"/My Drive/Colab Notebooks/Applied ML\"\n",
        "\n",
        "# Create drive_root if it doesn't exist\n",
        "create_drive_root = True\n",
        "if create_drive_root:\n",
        "  print(\"\\nColab: making sure \", drive_root, \" exists.\")\n",
        "  os.makedirs(drive_root, exist_ok=True)\n",
        "\n",
        "# Change to the directory\n",
        "print(\"\\nColab: Changing directory to \", drive_root)\n",
        "%cd $drive_root"
      ],
      "metadata": {
        "colab": {
          "base_uri": "https://localhost:8080/"
        },
        "id": "nzWGH6TvJ8Wn",
        "outputId": "1b2355bb-6c29-46bc-cc18-b650ada8d7df"
      },
      "execution_count": null,
      "outputs": [
        {
          "output_type": "stream",
          "name": "stdout",
          "text": [
            "\n",
            "Colab: making sure  /content/drive/My Drive/Colab Notebooks/Applied ML  exists.\n",
            "\n",
            "Colab: Changing directory to  /content/drive/My Drive/Colab Notebooks/Applied ML\n",
            "/content/drive/My Drive/Colab Notebooks/Applied ML\n"
          ]
        }
      ]
    },
    {
      "cell_type": "code",
      "source": [
        "# Check wd\n",
        "!pwd"
      ],
      "metadata": {
        "colab": {
          "base_uri": "https://localhost:8080/"
        },
        "id": "X2Kk2U97J-2q",
        "outputId": "c73af6fc-60fd-4fc3-cc2d-324b72987a86"
      },
      "execution_count": null,
      "outputs": [
        {
          "output_type": "stream",
          "name": "stdout",
          "text": [
            "/content/drive/My Drive/Colab Notebooks/Applied ML\n"
          ]
        }
      ]
    },
    {
      "cell_type": "markdown",
      "source": [
        "#Feature selection"
      ],
      "metadata": {
        "id": "iUgbZE9EKDey"
      }
    },
    {
      "cell_type": "markdown",
      "source": [
        "Three benefits of performing feature selection before\n",
        "modelling your data are: <br>\n",
        "• Reduces Overfitting: Less redundant data means less opportunity to make decisions based\n",
        "on noise.<br>\n",
        "• Improves Accuracy: Less misleading data means modelling accuracy improves.<br>\n",
        "• Reduces Training Time: Less data means that algorithms train faster"
      ],
      "metadata": {
        "id": "vLNW5kFUKb0k"
      }
    },
    {
      "cell_type": "markdown",
      "source": [
        "##Univariate Selection"
      ],
      "metadata": {
        "id": "00NjG7aNKr8G"
      }
    },
    {
      "cell_type": "code",
      "source": [
        "# Feature Extraction with Univariate Statistical Tests (Chi-squared for classification)\n",
        "from pandas import read_csv\n",
        "from numpy import set_printoptions\n",
        "from sklearn.feature_selection import SelectKBest\n",
        "from sklearn.feature_selection import chi2\n",
        "\n",
        "# load data\n",
        "filename = 'pima-indians-diabetes.data.csv'\n",
        "names = ['preg', 'plas', 'pres', 'skin', 'test', 'mass', 'pedi', 'age', 'class']\n",
        "dataframe = read_csv(filename, names=names)\n",
        "array = dataframe.values\n",
        "X = array[:,0:8]\n",
        "Y = array[:,8]\n",
        "\n",
        "# feature extraction\n",
        "test = SelectKBest(score_func=chi2, k=4)\n",
        "fit = test.fit(X, Y)\n",
        "\n",
        "# summarize scores\n",
        "set_printoptions(precision=2)\n",
        "print(fit.scores_)\n",
        "features = fit.transform(X)\n",
        "\n",
        "# summarize selected features\n",
        "print(features[0:5,:])"
      ],
      "metadata": {
        "colab": {
          "base_uri": "https://localhost:8080/"
        },
        "id": "TxQAnqFsKHV8",
        "outputId": "8ad51ac3-cf3b-412a-deb6-ed71e745062d"
      },
      "execution_count": null,
      "outputs": [
        {
          "output_type": "stream",
          "name": "stdout",
          "text": [
            "[ 111.52 1411.89   17.61   53.11 2175.57  127.67    5.39  181.3 ]\n",
            "[[148.    0.   33.6  50. ]\n",
            " [ 85.    0.   26.6  31. ]\n",
            " [183.    0.   23.3  32. ]\n",
            " ...\n",
            " [121.  112.   26.2  30. ]\n",
            " [126.    0.   30.1  47. ]\n",
            " [ 93.    0.   30.4  23. ]]\n"
          ]
        }
      ]
    },
    {
      "cell_type": "markdown",
      "source": [
        "##Recursive Feature Elimination"
      ],
      "metadata": {
        "id": "u_YjDzFxM7vI"
      }
    },
    {
      "cell_type": "code",
      "source": [
        "# Feature Extraction with RFE\n",
        "from sklearn.feature_selection import RFE\n",
        "from sklearn.linear_model import LogisticRegression\n",
        "\n",
        "# feature extraction\n",
        "model = LogisticRegression(solver='liblinear')\n",
        "rfe = RFE(model, n_features_to_select=3, step=1)\n",
        "fit = rfe.fit(X, Y)\n",
        "\n",
        "print(\"Num Features: %d\" % fit.n_features_)\n",
        "print(\"Selected Features: %s\" % fit.support_)\n",
        "print(\"Feature Ranking: %s\" % fit.ranking_)"
      ],
      "metadata": {
        "colab": {
          "base_uri": "https://localhost:8080/"
        },
        "id": "-2SgXZOFM874",
        "outputId": "946b4ab6-0316-4b71-80f8-04f63ee5bcc8"
      },
      "execution_count": null,
      "outputs": [
        {
          "output_type": "stream",
          "name": "stdout",
          "text": [
            "Num Features: 3\n",
            "Selected Features: [ True False False False False  True  True False]\n",
            "Feature Ranking: [1 2 3 5 6 1 1 4]\n"
          ]
        }
      ]
    },
    {
      "cell_type": "markdown",
      "source": [
        "##Data Reduction using Principal Component Analysis"
      ],
      "metadata": {
        "id": "oNwQy3N8PDZu"
      }
    },
    {
      "cell_type": "code",
      "source": [
        "# Feature Extraction with PCA\n",
        "from sklearn.decomposition import PCA\n",
        "\n",
        "# feature extraction\n",
        "pca = PCA(n_components=3)\n",
        "fit = pca.fit(X)\n",
        "\n",
        "# summarize components\n",
        "print(\"Explained Variance: %s\" % fit.explained_variance_ratio_)\n",
        "print(fit.components_)"
      ],
      "metadata": {
        "colab": {
          "base_uri": "https://localhost:8080/"
        },
        "id": "n7mS-7ZdPIAs",
        "outputId": "c26cc2a3-bf7c-44be-fc71-8f1da156939b"
      },
      "execution_count": null,
      "outputs": [
        {
          "output_type": "stream",
          "name": "stdout",
          "text": [
            "[[-2.02e-03  9.78e-02  1.61e-02  6.08e-02  9.93e-01  1.40e-02  5.37e-04\n",
            "  -3.56e-03]\n",
            " [-2.26e-02 -9.72e-01 -1.42e-01  5.79e-02  9.46e-02 -4.70e-02 -8.17e-04\n",
            "  -1.40e-01]\n",
            " [-2.25e-02  1.43e-01 -9.22e-01 -3.07e-01  2.10e-02 -1.32e-01 -6.40e-04\n",
            "  -1.25e-01]]\n"
          ]
        }
      ]
    },
    {
      "cell_type": "markdown",
      "source": [
        "##Feature Importance"
      ],
      "metadata": {
        "id": "OoVa-ue-PqDg"
      }
    },
    {
      "cell_type": "code",
      "source": [
        "# Feature Importance with Extra Trees Classifier\n",
        "from sklearn.ensemble import ExtraTreesClassifier\n",
        "\n",
        "# feature extraction\n",
        "model = ExtraTreesClassifier()\n",
        "model.fit(X, Y)\n",
        "print(model.feature_importances_)"
      ],
      "metadata": {
        "colab": {
          "base_uri": "https://localhost:8080/"
        },
        "id": "o-93etglPp1d",
        "outputId": "f0160392-b448-40a2-dd52-b5549aedf78a"
      },
      "execution_count": null,
      "outputs": [
        {
          "output_type": "stream",
          "name": "stdout",
          "text": [
            "[0.11 0.24 0.1  0.08 0.07 0.14 0.12 0.14]\n"
          ]
        }
      ]
    },
    {
      "cell_type": "markdown",
      "source": [
        "#Resampling"
      ],
      "metadata": {
        "id": "rfmihPoiQlqA"
      }
    },
    {
      "cell_type": "markdown",
      "source": [
        "#Split into Train and Test Sets\n",
        "The size of the split can depend on the size and specifics of\n",
        "your dataset, although it is common to use 67% of the data for training and the remaining 33% for\n",
        "testing."
      ],
      "metadata": {
        "id": "gG1hSLmVQnc9"
      }
    },
    {
      "cell_type": "code",
      "source": [
        "from sklearn.model_selection import train_test_split\n",
        "\n",
        "#Set-up\n",
        "test_size = 0.33\n",
        "seed = 876\n",
        "X_train, X_test, Y_train, Y_test = train_test_split(X, Y, test_size=test_size,\n",
        "random_state=seed)\n",
        "\n",
        "#Model\n",
        "model = LogisticRegression(solver = 'liblinear')\n",
        "model.fit(X_train, Y_train)\n",
        "\n",
        "#Result\n",
        "result = model.score(X_test, Y_test)\n",
        "\n",
        "print(\"Accuracy: %.3f%%\" % (result*100.0))"
      ],
      "metadata": {
        "colab": {
          "base_uri": "https://localhost:8080/"
        },
        "id": "eR_Szt19RFX-",
        "outputId": "c498192a-fdec-4439-b738-7c9d8af10b49"
      },
      "execution_count": null,
      "outputs": [
        {
          "output_type": "stream",
          "name": "stdout",
          "text": [
            "Accuracy: 79.528%\n"
          ]
        }
      ]
    },
    {
      "cell_type": "markdown",
      "source": [
        "#K-fold Cross-Valudation\n",
        "The algorithm is trained on k − 1 folds with one held back and tested on the held back fold. This is repeated so that each fold of the dataset is given a chance to be the held back test set. After running cross-validation you end up with k different performance scores that you can summarise using a mean and a standard deviation"
      ],
      "metadata": {
        "id": "Q8Px280QR6xm"
      }
    },
    {
      "cell_type": "code",
      "source": [
        "from sklearn.model_selection import KFold\n",
        "from sklearn.model_selection import cross_val_score\n",
        "\n",
        "#Set-up\n",
        "num_folds = 10\n",
        "seed = 978\n",
        "\n",
        "#Model\n",
        "kfold = KFold(n_splits=num_folds, random_state=seed ,shuffle=True)\n",
        "model = LogisticRegression(solver = 'liblinear')\n",
        "\n",
        "#Result\n",
        "results = cross_val_score(model, X, Y, cv=kfold)\n",
        "print(\"Accuracy: %.3f%% (%.3f%%)\" % (results.mean()*100.0, results.std()*100.0))"
      ],
      "metadata": {
        "colab": {
          "base_uri": "https://localhost:8080/"
        },
        "id": "2CuJIkd5R9pc",
        "outputId": "e12a9581-0117-41eb-e2eb-1bec578d382c"
      },
      "execution_count": null,
      "outputs": [
        {
          "output_type": "stream",
          "name": "stdout",
          "text": [
            "Accuracy: 76.951% (4.841%)\n"
          ]
        }
      ]
    },
    {
      "cell_type": "markdown",
      "source": [
        "#Leave One Out Cross-Validation\n",
        "Note: LeaveOneOut() is equivalent to KFold(n_splits=n) and LeavePOut(p=1) where n is the number of samples.\n",
        "\n",
        "Due to the high number of test sets (which is the same as the number of samples) this cross-validation method can be very costly. For large datasets one should favor KFold, ShuffleSplit or StratifiedKFold."
      ],
      "metadata": {
        "id": "oDJ44IK6TgyZ"
      }
    },
    {
      "cell_type": "code",
      "source": [
        "from sklearn.model_selection import LeaveOneOut\n",
        "\n",
        "#Set-up\n",
        "loocv = LeaveOneOut()\n",
        "model = LogisticRegression(solver = 'liblinear')\n",
        "\n",
        "#Results\n",
        "results = cross_val_score(model, X, Y, cv=loocv)\n",
        "\n",
        "print(\"Accuracy: %.3f%% (%.3f%%)\" % (results.mean()*100.0, results.std()*100.0))"
      ],
      "metadata": {
        "colab": {
          "base_uri": "https://localhost:8080/"
        },
        "id": "FtOZb5e_Tgik",
        "outputId": "89355fba-f382-4dd1-f554-08ac38b17b39"
      },
      "execution_count": null,
      "outputs": [
        {
          "output_type": "stream",
          "name": "stdout",
          "text": [
            "Accuracy: 76.823% (42.196%)\n"
          ]
        }
      ]
    },
    {
      "cell_type": "markdown",
      "source": [
        "#Repeated Random Test-Train Splits"
      ],
      "metadata": {
        "id": "CImFDADRUE_y"
      }
    },
    {
      "cell_type": "code",
      "source": [
        "from sklearn.model_selection import ShuffleSplit\n",
        "\n",
        "#Set-up\n",
        "n_splits = 10\n",
        "test_size = 0.33\n",
        "seed = 7\n",
        "\n",
        "#MNodel\n",
        "kfold = ShuffleSplit(n_splits=n_splits, test_size=test_size, random_state=seed)\n",
        "model = LogisticRegression(solver = 'liblinear')\n",
        "\n",
        "#Result\n",
        "results = cross_val_score(model, X, Y, cv=kfold)\n",
        "print(\"Accuracy: %.3f%% (%.3f%%)\" % (results.mean()*100.0, results.std()*100.0))"
      ],
      "metadata": {
        "colab": {
          "base_uri": "https://localhost:8080/"
        },
        "id": "kfHmDh4mUGRt",
        "outputId": "19601443-45b5-4a5b-c27d-4206bc243d04"
      },
      "execution_count": null,
      "outputs": [
        {
          "output_type": "stream",
          "name": "stdout",
          "text": [
            "Accuracy: 76.535% (1.691%)\n"
          ]
        }
      ]
    }
  ]
}
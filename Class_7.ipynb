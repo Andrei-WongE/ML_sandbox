{
  "nbformat": 4,
  "nbformat_minor": 0,
  "metadata": {
    "colab": {
      "provenance": [],
      "gpuType": "T4",
      "authorship_tag": "ABX9TyM1y7WOO8YAK+XB/dorrpu6",
      "include_colab_link": true
    },
    "kernelspec": {
      "name": "python3",
      "display_name": "Python 3"
    },
    "language_info": {
      "name": "python"
    },
    "accelerator": "GPU"
  },
  "cells": [
    {
      "cell_type": "markdown",
      "metadata": {
        "id": "view-in-github",
        "colab_type": "text"
      },
      "source": [
        "<a href=\"https://colab.research.google.com/github/Andrei-WongE/ML_sandbox/blob/origin/Class_7.ipynb\" target=\"_parent\"><img src=\"https://colab.research.google.com/assets/colab-badge.svg\" alt=\"Open In Colab\"/></a>"
      ]
    },
    {
      "cell_type": "markdown",
      "source": [
        "Setting-up GPU"
      ],
      "metadata": {
        "id": "SPrB24oj3YXg"
      }
    },
    {
      "cell_type": "code",
      "source": [
        "#Need to first set up Colab’s runtime environment to use GPUs or TPUs instead of CPUs.\n",
        "# select “Change runtime type” under “Runtime” from Colab’s menu bar.\n",
        "\n",
        "import tensorflow as tf\n",
        "\n",
        "device_name = tf.test.gpu_device_name()\n",
        "if len(device_name) > 0:\n",
        "    print(\"Found GPU at: {}\".format(device_name))\n",
        "else:\n",
        "    device_name = \"/device:CPU:0\"\n",
        "    print(\"No GPU, using {}.\".format(device_name))\n"
      ],
      "metadata": {
        "colab": {
          "base_uri": "https://localhost:8080/"
        },
        "id": "Cufd9byX3bQi",
        "outputId": "1c96f9af-f30f-4b2c-afe2-9905ee4d69f0"
      },
      "execution_count": 33,
      "outputs": [
        {
          "output_type": "stream",
          "name": "stdout",
          "text": [
            "Found GPU at: /device:GPU:0\n"
          ]
        }
      ]
    },
    {
      "cell_type": "markdown",
      "source": [
        "CONVOLUTIONAL NEURAL NETWORK WITH KERAS"
      ],
      "metadata": {
        "id": "kEMPIIIhBoHa"
      }
    },
    {
      "cell_type": "code",
      "execution_count": 15,
      "metadata": {
        "id": "LX-TyQNpBj49"
      },
      "outputs": [],
      "source": [
        "# plot ad hoc MNIST instances\n",
        "import keras\n",
        "from keras.datasets import mnist\n",
        "import matplotlib.pyplot as plt"
      ]
    },
    {
      "cell_type": "code",
      "source": [
        "# load (downloaded if needed) the MNIST dataset\n",
        "(x_train, y_train), (x_test, y_test) = keras.datasets.mnist.load_data()"
      ],
      "metadata": {
        "id": "XSruzQcwB-9I"
      },
      "execution_count": 16,
      "outputs": []
    },
    {
      "cell_type": "code",
      "source": [
        "# plot 4 images as gray scale\n",
        "plt.subplot(221)\n",
        "plt.imshow(x_train[0], cmap=plt.get_cmap('gray'))\n",
        "plt.subplot(222)\n",
        "plt.imshow(x_train[1], cmap=plt.get_cmap('gray'))\n",
        "plt.subplot(223)\n",
        "plt.imshow(x_train[2], cmap=plt.get_cmap('gray'))\n",
        "plt.subplot(224)\n",
        "plt.imshow(x_train[3], cmap=plt.get_cmap('gray'))"
      ],
      "metadata": {
        "colab": {
          "base_uri": "https://localhost:8080/",
          "height": 450
        },
        "id": "fQJhr9yKCDMR",
        "outputId": "c5d04bca-9d89-4667-d17e-7f96a162fc95"
      },
      "execution_count": 17,
      "outputs": [
        {
          "output_type": "execute_result",
          "data": {
            "text/plain": [
              "<matplotlib.image.AxesImage at 0x789a8c0f80a0>"
            ]
          },
          "metadata": {},
          "execution_count": 17
        },
        {
          "output_type": "display_data",
          "data": {
            "text/plain": [
              "<Figure size 640x480 with 4 Axes>"
            ],
            "image/png": "[encoded data removed]"
          },
          "metadata": {}
        }
      ]
    },
    {
      "cell_type": "markdown",
      "source": [
        "Let us import other classes and functions needed"
      ],
      "metadata": {
        "id": "P66DDN6tCRb-"
      }
    },
    {
      "cell_type": "code",
      "source": [
        "# to see versions, using random seed\n",
        "import warnings\n",
        "warnings.simplefilter(action='ignore', category=FutureWarning)\n",
        "import sys\n",
        "import tensorflow as tf\n",
        "from keras.models import Sequential\n",
        "from keras.layers import Dense, Dropout, Flatten\n",
        "from keras.layers import Conv2D, MaxPooling2D"
      ],
      "metadata": {
        "id": "P6_1cVNECG_S"
      },
      "execution_count": 18,
      "outputs": []
    },
    {
      "cell_type": "code",
      "source": [
        "# fix random seed for reproducibility\n",
        "import numpy as np\n",
        "np.random.seed(7)"
      ],
      "metadata": {
        "id": "7MdV2cv1CfAq"
      },
      "execution_count": 19,
      "outputs": []
    },
    {
      "cell_type": "markdown",
      "source": [
        "Let us use 𝑣𝑒𝑟𝑠𝑖𝑜𝑛 functions to see the versions of Python, TensorFlow and Keras"
      ],
      "metadata": {
        "id": "FOcTqqriCkES"
      }
    },
    {
      "cell_type": "code",
      "source": [
        "# print\n",
        "print('Python version : ', sys.version)\n",
        "print('TensorFlow version : ', tf.__version__)\n",
        "print('Keras version : ', keras.__version__)"
      ],
      "metadata": {
        "colab": {
          "base_uri": "https://localhost:8080/"
        },
        "id": "yKkRmCEGClYv",
        "outputId": "32db77ea-e903-4a3d-9e31-c14242225058"
      },
      "execution_count": 20,
      "outputs": [
        {
          "output_type": "stream",
          "name": "stdout",
          "text": [
            "Python version :  3.10.12 (main, Nov 20 2023, 15:14:05) [GCC 11.4.0]\n",
            "TensorFlow version :  2.15.0\n",
            "Keras version :  2.15.0\n"
          ]
        }
      ]
    },
    {
      "cell_type": "markdown",
      "source": [
        "As we already loaded the MNIST dataset, we now just reshape it so that it is suitable for use training a CNN. In Keras, the layers used for two-dimensional convolutions (Conv2D) expect pixel\n",
        "values with the dimensions `[height][width][channels]`."
      ],
      "metadata": {
        "id": "QQi1qm0-DE5g"
      }
    },
    {
      "cell_type": "code",
      "source": [
        "img_rows = 28\n",
        "img_cols = 28 #here we are stating that our input are a set of 28x28 grayscale images.\n",
        "\n",
        "#the pixel dimension is set to 1 since there is just one channel representing the\n",
        "# intensity of gray (we will use this piece of code later when defining our CNN)\n",
        "input_shape = (img_rows, img_cols, 1)\n",
        "\n",
        "# reshape to be [samples][height][width][channels]\n",
        "x_train = x_train.reshape(x_train.shape[0], img_rows, img_cols, 1) #reshaping\n",
        "#(samples, 28, 28) to (# samples, 28, 28, 1)\n",
        "x_test = x_test.reshape(x_test.shape[0], img_rows, img_cols, 1)"
      ],
      "metadata": {
        "id": "kJvvFq8RDGKI"
      },
      "execution_count": 21,
      "outputs": []
    },
    {
      "cell_type": "code",
      "source": [
        "# normalise inputs from 0-255 to 0-1\n",
        "#please note that here we are not talking about the standard normalisation!!!!!!\n",
        "# process (mean zero, sd 1)\n",
        "#in the context of pixel values, normalisation refers to change the range between 0 and\n",
        "#1. We divide by 255 because our MINST database range goes from 0 to 255.\n",
        "x_train = x_train.astype('float32') / 255.\n",
        "x_test = x_test.astype('float32') / 255."
      ],
      "metadata": {
        "id": "hLEJlSwGDuKi"
      },
      "execution_count": 22,
      "outputs": []
    },
    {
      "cell_type": "code",
      "source": [
        "# one hot encode outputs\n",
        "# We need to do this because our CNN needs to learn how to classify images (this is a\n",
        "# classification task)\n",
        "#Also, the output layer uses softmax function to convert output values into probabilities\n",
        "#and it expects the data to be in a one hot encoded.\n",
        "#furthermore if we leave the data (numbers between 0 an 9) raw, the neuron might\n",
        "#interpret the labels as ordinal, implying an inherent order among digits.\n",
        "#please note that the hot encoding it is applied to the target variable ONLY\n",
        "num_classes = 10\n",
        "y_train = keras.utils.to_categorical(y_train, num_classes)\n",
        "y_test = keras.utils.to_categorical(y_test, num_classes)"
      ],
      "metadata": {
        "id": "-o_oQXb7VRyE"
      },
      "execution_count": 23,
      "outputs": []
    },
    {
      "cell_type": "code",
      "source": [
        "print(y_train)"
      ],
      "metadata": {
        "colab": {
          "base_uri": "https://localhost:8080/"
        },
        "id": "yNblLZe3VRlV",
        "outputId": "7c237a8d-a51a-4a4c-96d9-af9a6b484148"
      },
      "execution_count": 24,
      "outputs": [
        {
          "output_type": "stream",
          "name": "stdout",
          "text": [
            "[[0. 0. 0. ... 0. 0. 0.]\n",
            " [1. 0. 0. ... 0. 0. 0.]\n",
            " [0. 0. 0. ... 0. 0. 0.]\n",
            " ...\n",
            " [0. 0. 0. ... 0. 0. 0.]\n",
            " [0. 0. 0. ... 0. 0. 0.]\n",
            " [0. 0. 0. ... 0. 1. 0.]]\n"
          ]
        }
      ]
    },
    {
      "cell_type": "code",
      "source": [
        "model = Sequential()\n",
        "\n",
        "#32 kernels (or filters) in the convolutional layer; 1x1 pixel for the stride; padding =\n",
        "# same means padding with zero the image using so that the output has the same size of the\n",
        "#input\n",
        "model.add(Conv2D(32, kernel_size=(5, 5), strides=(1, 1), padding= \"same\", activation='relu', input_shape=input_shape))\n",
        "model.add(MaxPooling2D(pool_size=(2, 2), strides=(2, 2)))\n",
        "\n",
        "#activation = relu (rectified linear unit instead of sigmoid function)\n",
        "#input shape was defined before and we are calling it now\n",
        "model.add(Conv2D(64, (2, 2), activation='relu', padding='same'))\n",
        "model.add(MaxPooling2D(pool_size=(2, 2)))\n",
        "model.add(Dropout(0.25)) #define the layers to drop out to prevent overfitting\n",
        "model.add(Flatten())\n",
        "model.add(Dense(1000, activation='relu'))\n",
        "model.add(Dropout(0.5))\n",
        "model.add(Dense(num_classes, activation='softmax'))\n",
        "\n",
        "model.summary()"
      ],
      "metadata": {
        "colab": {
          "base_uri": "https://localhost:8080/"
        },
        "id": "0mkqhoRcXDgi",
        "outputId": "3fe0efe2-f137-48bc-be7a-9cc79fd2a408"
      },
      "execution_count": 25,
      "outputs": [
        {
          "output_type": "stream",
          "name": "stdout",
          "text": [
            "Model: \"sequential_1\"\n",
            "_________________________________________________________________\n",
            " Layer (type)                Output Shape              Param #   \n",
            "=================================================================\n",
            " conv2d_2 (Conv2D)           (None, 28, 28, 32)        832       \n",
            "                                                                 \n",
            " max_pooling2d_2 (MaxPoolin  (None, 14, 14, 32)        0         \n",
            " g2D)                                                            \n",
            "                                                                 \n",
            " conv2d_3 (Conv2D)           (None, 14, 14, 64)        8256      \n",
            "                                                                 \n",
            " max_pooling2d_3 (MaxPoolin  (None, 7, 7, 64)          0         \n",
            " g2D)                                                            \n",
            "                                                                 \n",
            " dropout_2 (Dropout)         (None, 7, 7, 64)          0         \n",
            "                                                                 \n",
            " flatten_1 (Flatten)         (None, 3136)              0         \n",
            "                                                                 \n",
            " dense_2 (Dense)             (None, 1000)              3137000   \n",
            "                                                                 \n",
            " dropout_3 (Dropout)         (None, 1000)              0         \n",
            "                                                                 \n",
            " dense_3 (Dense)             (None, 10)                10010     \n",
            "                                                                 \n",
            "=================================================================\n",
            "Total params: 3156098 (12.04 MB)\n",
            "Trainable params: 3156098 (12.04 MB)\n",
            "Non-trainable params: 0 (0.00 Byte)\n",
            "_________________________________________________________________\n"
          ]
        }
      ]
    },
    {
      "cell_type": "markdown",
      "source": [
        "Compiling and fitting the model. The CNN is fit over 12 epochs with a batch size of 128 as defined\n",
        "above."
      ],
      "metadata": {
        "id": "CguhICK6Y3fh"
      }
    },
    {
      "cell_type": "code",
      "source": [
        "opt = 'adam'\n",
        "loss = 'categorical_crossentropy'\n",
        "metrics = ['accuracy']\n",
        "\n",
        "# these values are chosen via trial and error\n",
        "batch_size = 128\n",
        "epochs = 12\n",
        "model.compile(optimizer=opt, loss=loss, metrics=metrics)\n",
        "\n",
        "# fit the model\n",
        "# Once the model has been created and compiled on the GPU, it can be\n",
        "# trained as per usual.\n",
        "with tf.device(device_name):\n",
        "\n",
        "  history = model.fit(x_train, y_train, batch_size=batch_size, epochs=epochs, verbose=1,validation_data=(x_test, y_test))"
      ],
      "metadata": {
        "colab": {
          "base_uri": "https://localhost:8080/"
        },
        "id": "jeuj4756Y4gR",
        "outputId": "5d83dfed-ed46-452f-f311-9f73e2ed294d"
      },
      "execution_count": 28,
      "outputs": [
        {
          "output_type": "stream",
          "name": "stdout",
          "text": [
            "Epoch 1/12\n",
            "469/469 [==============================] - 10s 10ms/step - loss: 0.1821 - accuracy: 0.9429 - val_loss: 0.0446 - val_accuracy: 0.9841\n",
            "Epoch 2/12\n",
            "469/469 [==============================] - 3s 6ms/step - loss: 0.0610 - accuracy: 0.9813 - val_loss: 0.0335 - val_accuracy: 0.9884\n",
            "Epoch 3/12\n",
            "469/469 [==============================] - 3s 6ms/step - loss: 0.0444 - accuracy: 0.9860 - val_loss: 0.0264 - val_accuracy: 0.9913\n",
            "Epoch 4/12\n",
            "469/469 [==============================] - 3s 7ms/step - loss: 0.0387 - accuracy: 0.9882 - val_loss: 0.0251 - val_accuracy: 0.9914\n",
            "Epoch 5/12\n",
            "469/469 [==============================] - 3s 7ms/step - loss: 0.0313 - accuracy: 0.9901 - val_loss: 0.0233 - val_accuracy: 0.9918\n",
            "Epoch 6/12\n",
            "469/469 [==============================] - 3s 6ms/step - loss: 0.0281 - accuracy: 0.9909 - val_loss: 0.0194 - val_accuracy: 0.9929\n",
            "Epoch 7/12\n",
            "469/469 [==============================] - 3s 6ms/step - loss: 0.0222 - accuracy: 0.9929 - val_loss: 0.0228 - val_accuracy: 0.9922\n",
            "Epoch 8/12\n",
            "469/469 [==============================] - 4s 9ms/step - loss: 0.0214 - accuracy: 0.9931 - val_loss: 0.0215 - val_accuracy: 0.9940\n",
            "Epoch 9/12\n",
            "469/469 [==============================] - 3s 7ms/step - loss: 0.0192 - accuracy: 0.9934 - val_loss: 0.0250 - val_accuracy: 0.9922\n",
            "Epoch 10/12\n",
            "469/469 [==============================] - 3s 7ms/step - loss: 0.0177 - accuracy: 0.9942 - val_loss: 0.0193 - val_accuracy: 0.9944\n",
            "Epoch 11/12\n",
            "469/469 [==============================] - 3s 7ms/step - loss: 0.0151 - accuracy: 0.9952 - val_loss: 0.0213 - val_accuracy: 0.9940\n",
            "Epoch 12/12\n",
            "469/469 [==============================] - 4s 9ms/step - loss: 0.0150 - accuracy: 0.9953 - val_loss: 0.0198 - val_accuracy: 0.9936\n"
          ]
        }
      ]
    },
    {
      "cell_type": "markdown",
      "source": [
        " 𝑒𝑣𝑎𝑙𝑢𝑎𝑡𝑒 function in 𝑀𝑜𝑑𝑒𝑙 class to print the test loss and accuracy values see: [Keras Models](https://keras.io/api/models/model/)"
      ],
      "metadata": {
        "id": "rajiy8kZZHkr"
      }
    },
    {
      "cell_type": "code",
      "source": [
        "test_loss, test_acc = model.evaluate(x_train, y_train,verbose=2)\n",
        "\n",
        "print(f'Test loss: {test_loss}')\n",
        "print(f'Test accuracy: {test_acc}')\n"
      ],
      "metadata": {
        "colab": {
          "base_uri": "https://localhost:8080/"
        },
        "id": "nxnn_vZKZM9r",
        "outputId": "47b1354f-2275-41ea-f5d3-47ad4355c762"
      },
      "execution_count": 36,
      "outputs": [
        {
          "output_type": "stream",
          "name": "stdout",
          "text": [
            "1875/1875 - 5s - loss: 0.0041 - accuracy: 0.9988 - 5s/epoch - 2ms/step\n",
            "Test loss: 0.004075748845934868\n",
            "Test accuracy: 0.9988333582878113\n"
          ]
        }
      ]
    },
    {
      "cell_type": "code",
      "source": [
        "print(history)\n",
        "fig1, ax_acc = plt.subplots()\n",
        "plt.plot(history.history['accuracy'])\n",
        "plt.plot(history.history['val_accuracy'])\n",
        "plt.xlabel('Epoch')\n",
        "plt.ylabel('Accuracy')\n",
        "plt.title('Model - Accuracy')\n",
        "plt.legend(['Training', 'Validation'], loc='lower right')\n",
        "plt.show()\n",
        "fig2, ax_loss = plt.subplots()\n",
        "plt.xlabel('Epoch')\n",
        "plt.ylabel('Loss')\n",
        "plt.title('Model - Loss')\n",
        "plt.legend(['Training', 'Validation'], loc='upper right')\n",
        "plt.plot(history.history['loss'])\n",
        "plt.plot(history.history['val_loss'])\n",
        "plt.show()"
      ],
      "metadata": {
        "colab": {
          "base_uri": "https://localhost:8080/",
          "height": 945
        },
        "id": "M1LI4jUDaXC8",
        "outputId": "1449c944-ff56-4e90-9e01-86f9bdcd9cc0"
      },
      "execution_count": 31,
      "outputs": [
        {
          "output_type": "stream",
          "name": "stdout",
          "text": [
            "<keras.src.callbacks.History object at 0x789a8bff3d30>\n"
          ]
        },
        {
          "output_type": "display_data",
          "data": {
            "text/plain": [
              "<Figure size 640x480 with 1 Axes>"
            ],
            "image/png": "[encoded data removed]"
          },
          "metadata": {}
        },
        {
          "output_type": "display_data",
          "data": {
            "text/plain": [
              "<Figure size 640x480 with 1 Axes>"
            ],
            "image/png": "[encoded data removed]"
          },
          "metadata": {}
        }
      ]
    },
    {
      "cell_type": "code",
      "source": [
        "n = 0\n",
        "plt.imshow(x_test[n].reshape(28, 28), cmap='Greys', interpolation='nearest')\n",
        "plt.show()\n",
        "print('The Answer is ', model.predict(x_test[n].reshape((1, 28, 28, 1))))"
      ],
      "metadata": {
        "colab": {
          "base_uri": "https://localhost:8080/",
          "height": 483
        },
        "id": "fanW65RAabb0",
        "outputId": "f6a697f5-fd91-4da7-dea8-5bd1c2a8fd28"
      },
      "execution_count": 32,
      "outputs": [
        {
          "output_type": "display_data",
          "data": {
            "text/plain": [
              "<Figure size 640x480 with 1 Axes>"
            ],
            "image/png": "[encoded data removed]"
          },
          "metadata": {}
        },
        {
          "output_type": "stream",
          "name": "stdout",
          "text": [
            "1/1 [==============================] - 0s 155ms/step\n",
            "The Answer is  [[1.4342671e-13 6.4606535e-11 1.4491339e-11 2.5760290e-11 5.0214227e-13\n",
            "  4.3641380e-12 4.3125101e-17 1.0000000e+00 1.0452651e-13 6.9636585e-10]]\n"
          ]
        }
      ]
    }
  ]
}
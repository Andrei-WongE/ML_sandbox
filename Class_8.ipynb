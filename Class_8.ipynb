{
  "nbformat": 4,
  "nbformat_minor": 0,
  "metadata": {
    "colab": {
      "provenance": [],
      "collapsed_sections": [
        "yL7E1q52KJcN",
        "_Hoicie1KPqk"
      ],
      "gpuType": "T4",
      "authorship_tag": "ABX9TyMoteTjjeBE4l9XCYwjqzU7",
      "include_colab_link": true
    },
    "kernelspec": {
      "name": "python3",
      "display_name": "Python 3"
    },
    "language_info": {
      "name": "python"
    },
    "accelerator": "GPU"
  },
  "cells": [
    {
      "cell_type": "markdown",
      "metadata": {
        "id": "view-in-github",
        "colab_type": "text"
      },
      "source": [
        "<a href=\"https://colab.research.google.com/github/Andrei-WongE/ML_sandbox/blob/origin/Class_8.ipynb\" target=\"_parent\"><img src=\"https://colab.research.google.com/assets/colab-badge.svg\" alt=\"Open In Colab\"/></a>"
      ]
    },
    {
      "cell_type": "markdown",
      "source": [
        "# REPRESENTATION LEARNING - AUTOENCODERS"
      ],
      "metadata": {
        "id": "EdNC5RbnGkER"
      }
    },
    {
      "cell_type": "code",
      "source": [
        "#Need to first set up Colab’s runtime environment to use GPUs or TPUs instead of CPUs.\n",
        "# select “Change runtime type” under “Runtime” from Colab’s menu bar.\n",
        "\n",
        "import tensorflow as tf\n",
        "\n",
        "device_name = tf.test.gpu_device_name()\n",
        "if len(device_name) > 0:\n",
        "    print(\"Found GPU at: {}\".format(device_name))\n",
        "else:\n",
        "    device_name = \"/device:CPU:0\"\n",
        "    print(\"No GPU, using {}.\".format(device_name))\n"
      ],
      "metadata": {
        "colab": {
          "base_uri": "https://localhost:8080/"
        },
        "id": "TmSeApP7Gm4p",
        "outputId": "11e2c712-e2d4-4a61-9d8d-2cf13a2f76f8"
      },
      "execution_count": 1,
      "outputs": [
        {
          "output_type": "stream",
          "name": "stdout",
          "text": [
            "Found GPU at: /device:GPU:0\n"
          ]
        }
      ]
    },
    {
      "cell_type": "code",
      "source": [
        "# Import libraries\n",
        "import matplotlib.pyplot as plt\n",
        "import pandas as pd\n",
        "import numpy as np\n",
        "import seaborn as sns\n",
        "import warnings\n",
        "warnings.filterwarnings('ignore')\n",
        "\n",
        "import tensorflow as tf\n",
        "print(tf.__version__)\n",
        "\n",
        "from __future__ import print_function\n",
        "from tensorflow.keras.models import Model\n",
        "from tensorflow.keras.layers import Dense, Input\n",
        "from tensorflow.keras.datasets import mnist\n",
        "from tensorflow.keras.regularizers import l1\n",
        "from tensorflow.keras.optimizers import Adam"
      ],
      "metadata": {
        "colab": {
          "base_uri": "https://localhost:8080/"
        },
        "id": "BtJRvcmnHLDi",
        "outputId": "a5e3d46f-b932-4993-f8d2-74d5c45bf937"
      },
      "execution_count": 4,
      "outputs": [
        {
          "output_type": "stream",
          "name": "stdout",
          "text": [
            "2.15.0\n"
          ]
        }
      ]
    },
    {
      "cell_type": "code",
      "source": [
        "# Checking\n",
        "gpus = tf.config.experimental.list_physical_devices('GPU')\n",
        "print(gpus)"
      ],
      "metadata": {
        "colab": {
          "base_uri": "https://localhost:8080/"
        },
        "id": "DPLWAwtsHcUm",
        "outputId": "d7339508-4e4a-4689-9046-3a01acc25622"
      },
      "execution_count": 6,
      "outputs": [
        {
          "output_type": "stream",
          "name": "stdout",
          "text": [
            "[PhysicalDevice(name='/physical_device:GPU:0', device_type='GPU')]\n"
          ]
        }
      ]
    },
    {
      "cell_type": "markdown",
      "source": [
        "import the mnist data and shape it:"
      ],
      "metadata": {
        "id": "k_sYxezUHwSU"
      }
    },
    {
      "cell_type": "code",
      "source": [
        "(x_train, y_train), (x_test, y_test) = mnist.load_data()\n",
        "x_train = x_train.astype('float32') / 255.0\n",
        "x_test = x_test.astype('float32') / 255.0\n",
        "print(x_train.shape)\n",
        "print(x_test.shape)\n",
        "x_train = x_train.reshape((len(x_train), np.prod(x_train.shape[1:])))\n",
        "x_test = x_test.reshape((len(x_test), np.prod(x_test.shape[1:])))\n",
        "print(x_train.shape)\n",
        "print(x_test.shape)"
      ],
      "metadata": {
        "colab": {
          "base_uri": "https://localhost:8080/"
        },
        "id": "_xtKDLKqHtj8",
        "outputId": "bff89191-78bc-46d0-ac5b-a5d7a2efebbc"
      },
      "execution_count": 8,
      "outputs": [
        {
          "output_type": "stream",
          "name": "stdout",
          "text": [
            "Downloading data from https://storage.googleapis.com/tensorflow/tf-keras-datasets/mnist.npz\n",
            "11490434/11490434 [==============================] - 0s 0us/step\n",
            "(60000, 28, 28)\n",
            "(10000, 28, 28)\n",
            "(60000, 784)\n",
            "(10000, 784)\n"
          ]
        }
      ]
    },
    {
      "cell_type": "markdown",
      "source": [
        "Before we used to add layers using\n",
        "the sequential API as follows:\n",
        "\n",
        "```\n",
        "model.add(Dense(16, activation='relu'))\n",
        "model.add(Dense(8, activation='relu'))\n",
        "```\n",
        "\n"
      ],
      "metadata": {
        "id": "RNsrJlumIHIf"
      }
    },
    {
      "cell_type": "markdown",
      "source": [
        "## A Simple Autoencoder"
      ],
      "metadata": {
        "id": "yL7E1q52KJcN"
      }
    },
    {
      "cell_type": "code",
      "source": [
        "# With the functional API we do this:\n",
        "layer_1 = Dense(16, activation='relu')(input)\n",
        "layer_2 = Dense(8, activation='relu')(layer_1)"
      ],
      "metadata": {
        "id": "DnTBdDA_IOLe"
      },
      "execution_count": null,
      "outputs": []
    },
    {
      "cell_type": "markdown",
      "source": [
        "The output of Dense method is a\n",
        "callable layer, using the functional API we provide it with the input and store the output. The output\n",
        "of a layer becomes the input of the next layer. With the sequential API the add method implicitly\n",
        "handled this for us."
      ],
      "metadata": {
        "id": "SEAkscF4ImO0"
      }
    },
    {
      "cell_type": "code",
      "source": [
        "# Function to implement our autoencoders\n",
        "def auto_encoder_model(p_hidden_size=128, p_code_size=32, sparse=False, regval=10e-6):\n",
        "  input_size = 784\n",
        "  hidden_size = p_hidden_size\n",
        "  code_size = p_code_size\n",
        "  input_img = Input(shape=(input_size,))\n",
        "  hidden_1 = Dense(hidden_size, activation='relu')(input_img)\n",
        "\n",
        "  if sparse:\n",
        "    code = Dense(code_size, activation='relu',\n",
        "  activity_regularizer = l1(regval))(hidden_1)\n",
        "  else:\n",
        "    code = Dense(code_size, activation='relu')(hidden_1)\n",
        "  hidden_2 = Dense(hidden_size, activation='relu')(code)\n",
        "  output_img = Dense(input_size, activation='sigmoid')(hidden_2)\n",
        "\n",
        "  autoencoder = Model(input_img, output_img)\n",
        "  encoded = Model(input_img, code)\n",
        "\n",
        "  return autoencoder, encoded"
      ],
      "metadata": {
        "id": "Qus-N9xZI3Jr"
      },
      "execution_count": 11,
      "outputs": []
    },
    {
      "cell_type": "code",
      "source": [
        "# generate an autoencoder model\n",
        "autoencoder, _ = auto_encoder_model()\n",
        "autoencoder.compile(optimizer='adam', loss='binary_crossentropy')\n",
        "\n",
        "autoencoder.fit(x_train, x_train, epochs=3)"
      ],
      "metadata": {
        "colab": {
          "base_uri": "https://localhost:8080/"
        },
        "id": "Lq8ieussJKib",
        "outputId": "9a4a247a-f2d3-4508-a55a-6cd6d15eb7d8"
      },
      "execution_count": 12,
      "outputs": [
        {
          "output_type": "stream",
          "name": "stdout",
          "text": [
            "Epoch 1/3\n",
            "1875/1875 [==============================] - 8s 3ms/step - loss: 0.1398\n",
            "Epoch 2/3\n",
            "1875/1875 [==============================] - 5s 3ms/step - loss: 0.1009\n",
            "Epoch 3/3\n",
            "1875/1875 [==============================] - 5s 3ms/step - loss: 0.0953\n"
          ]
        },
        {
          "output_type": "execute_result",
          "data": {
            "text/plain": [
              "<keras.src.callbacks.History at 0x7ec3f74fd4e0>"
            ]
          },
          "metadata": {},
          "execution_count": 12
        }
      ]
    },
    {
      "cell_type": "markdown",
      "source": [
        "visualize how well our autoencoder reconstructs its input"
      ],
      "metadata": {
        "id": "Dw304UpMJamY"
      }
    },
    {
      "cell_type": "code",
      "source": [
        "def plot_image_comparison(base_images, comparison_images, p_n = 5, dims=(28,28) ):\n",
        "  decoded_imgs = autoencoder.predict(x_test)\n",
        "  # number of example digits to show\n",
        "  n = p_n\n",
        "  plt.figure(figsize=(10, 4.5))\n",
        "  for i in range(n):\n",
        "    # plot original image\n",
        "    ax = plt.subplot(2, n, i + 1)\n",
        "    plt.imshow(base_images[i].reshape(*dims))\n",
        "    plt.gray()\n",
        "    ax.get_xaxis().set_visible(False)\n",
        "    ax.get_yaxis().set_visible(False)\n",
        "\n",
        "    if i == n/2:\n",
        "      ax.set_title('Original Images')\n",
        "    # plot reconstruction\n",
        "    ax = plt.subplot(2, n, i + 1+ n)\n",
        "    plt.imshow(comparison_images[i].reshape(*dims))\n",
        "    plt.gray()\n",
        "    ax.get_xaxis().set_visible(False)\n",
        "    ax.get_yaxis().set_visible(False)\n",
        "\n",
        "    if i == n/2:\n",
        "      ax.set_title('Reconstructed Images')\n",
        "\n",
        "plt.show()\n",
        "\n",
        "plot_image_comparison(x_test, autoencoder.predict(x_test))"
      ],
      "metadata": {
        "colab": {
          "base_uri": "https://localhost:8080/",
          "height": 380
        },
        "id": "xpjWrJ3gJaO8",
        "outputId": "f9988a5f-3240-4463-9a9f-4aa16d9e3fea"
      },
      "execution_count": 17,
      "outputs": [
        {
          "output_type": "stream",
          "name": "stdout",
          "text": [
            "313/313 [==============================] - 1s 2ms/step\n",
            "313/313 [==============================] - 0s 2ms/step\n"
          ]
        },
        {
          "output_type": "display_data",
          "data": {
            "text/plain": [
              "<Figure size 1000x450 with 10 Axes>"
            ],
            "image/png": "[encoded data removed]"
          },
          "metadata": {}
        }
      ]
    },
    {
      "cell_type": "markdown",
      "source": [],
      "metadata": {
        "id": "IIJfgn5lI29c"
      }
    },
    {
      "cell_type": "markdown",
      "source": [
        "##Denoising Autoencoder"
      ],
      "metadata": {
        "id": "_Hoicie1KPqk"
      }
    },
    {
      "cell_type": "code",
      "source": [
        "#Creating noisy input\n",
        "\n",
        "noise_factor = 0.4\n",
        "x_train_noisy = x_train + noise_factor * np.random.normal(size=x_train.shape)\n",
        "x_test_noisy = x_test + noise_factor * np.random.normal(size=x_test.shape)\n",
        "x_train_noisy = np.clip(x_train_noisy, 0.0, 1.0)\n",
        "x_test_noisy = np.clip(x_test_noisy, 0.0, 1.0)\n",
        "plot_image_comparison(x_test, x_test_noisy)"
      ],
      "metadata": {
        "colab": {
          "base_uri": "https://localhost:8080/",
          "height": 362
        },
        "id": "vge1nOcwKbTG",
        "outputId": "0d5c6582-8fb6-49a7-cdea-c0dd859310b4"
      },
      "execution_count": 18,
      "outputs": [
        {
          "output_type": "stream",
          "name": "stdout",
          "text": [
            "313/313 [==============================] - 0s 2ms/step\n"
          ]
        },
        {
          "output_type": "display_data",
          "data": {
            "text/plain": [
              "<Figure size 1000x450 with 10 Axes>"
            ],
            "image/png": "[encoded data removed]"
          },
          "metadata": {}
        }
      ]
    },
    {
      "cell_type": "markdown",
      "source": [
        "If we let our previously trained autoencoder try to reproduce the images when given the noisy input,\n",
        "we can see that it doesn’t do very well."
      ],
      "metadata": {
        "id": "txILcUmbKuwq"
      }
    },
    {
      "cell_type": "code",
      "source": [
        "plot_image_comparison(x_test, autoencoder.predict(x_test_noisy))"
      ],
      "metadata": {
        "colab": {
          "base_uri": "https://localhost:8080/",
          "height": 380
        },
        "id": "JJXko70kKwlW",
        "outputId": "320c0e0a-5caf-4ff6-ecc1-9fa7f7a48bde"
      },
      "execution_count": 19,
      "outputs": [
        {
          "output_type": "stream",
          "name": "stdout",
          "text": [
            "313/313 [==============================] - 1s 2ms/step\n",
            "313/313 [==============================] - 1s 2ms/step\n"
          ]
        },
        {
          "output_type": "display_data",
          "data": {
            "text/plain": [
              "<Figure size 1000x450 with 10 Axes>"
            ],
            "image/png": "[encoded data removed]"
          },
          "metadata": {}
        }
      ]
    },
    {
      "cell_type": "markdown",
      "source": [
        "To get a better fit we need to make one small difference between the implementation of denoising\n",
        "autoencoder and the regular one. The architecture doesn’t change at all, only the fit function."
      ],
      "metadata": {
        "id": "TxVgl348K35C"
      }
    },
    {
      "cell_type": "code",
      "source": [
        "#Denoising autoencoder is trained as:\n",
        "autoencoder.fit(x_train_noisy, x_train)"
      ],
      "metadata": {
        "colab": {
          "base_uri": "https://localhost:8080/"
        },
        "id": "fFsyDPkOK5YH",
        "outputId": "4ded793d-8a27-422d-8512-ec872b0e4aea"
      },
      "execution_count": 21,
      "outputs": [
        {
          "output_type": "stream",
          "name": "stdout",
          "text": [
            "1875/1875 [==============================] - 6s 3ms/step - loss: 0.1170\n"
          ]
        },
        {
          "output_type": "execute_result",
          "data": {
            "text/plain": [
              "<keras.src.callbacks.History at 0x7ec3e1e14d90>"
            ]
          },
          "metadata": {},
          "execution_count": 21
        }
      ]
    },
    {
      "cell_type": "markdown",
      "source": [
        "implement the denoising autoencoder and see its results."
      ],
      "metadata": {
        "id": "n3Co8BqILbPO"
      }
    },
    {
      "cell_type": "code",
      "source": [
        "autoencoder.fit(x_train_noisy, x_train, epochs=3)"
      ],
      "metadata": {
        "colab": {
          "base_uri": "https://localhost:8080/"
        },
        "id": "nYFzhYfULb1B",
        "outputId": "5d5ee859-fe20-4a11-d117-130aeadec544"
      },
      "execution_count": 22,
      "outputs": [
        {
          "output_type": "stream",
          "name": "stdout",
          "text": [
            "Epoch 1/3\n",
            "1875/1875 [==============================] - 5s 3ms/step - loss: 0.1119\n",
            "Epoch 2/3\n",
            "1875/1875 [==============================] - 6s 3ms/step - loss: 0.1101\n",
            "Epoch 3/3\n",
            "1875/1875 [==============================] - 5s 3ms/step - loss: 0.1089\n"
          ]
        },
        {
          "output_type": "execute_result",
          "data": {
            "text/plain": [
              "<keras.src.callbacks.History at 0x7ec3eba9db10>"
            ]
          },
          "metadata": {},
          "execution_count": 22
        }
      ]
    },
    {
      "cell_type": "markdown",
      "source": [
        "visualize whether we are able to recover the noise-free images"
      ],
      "metadata": {
        "id": "do7jl93iL8La"
      }
    },
    {
      "cell_type": "code",
      "source": [
        "plot_image_comparison(x_test, autoencoder.predict(x_test_noisy))"
      ],
      "metadata": {
        "colab": {
          "base_uri": "https://localhost:8080/",
          "height": 380
        },
        "id": "zDnYbdEOL9dq",
        "outputId": "1ac384e0-e316-4da8-f332-140f3bb2ed16"
      },
      "execution_count": 23,
      "outputs": [
        {
          "output_type": "stream",
          "name": "stdout",
          "text": [
            "313/313 [==============================] - 0s 2ms/step\n",
            "313/313 [==============================] - 1s 2ms/step\n"
          ]
        },
        {
          "output_type": "display_data",
          "data": {
            "text/plain": [
              "<Figure size 1000x450 with 10 Axes>"
            ],
            "image/png": "[encoded data removed]"
          },
          "metadata": {}
        }
      ]
    },
    {
      "cell_type": "markdown",
      "source": [
        "##Sparse Autoencoders"
      ],
      "metadata": {
        "id": "9rcQAautMHXe"
      }
    },
    {
      "cell_type": "markdown",
      "source": [
        "We can regularize the\n",
        "autoencoder by using a sparsity constraint such that only a fraction of the nodes would have\n",
        "nonzero values, called active nodes. We add a penalty term to the loss function such that only a fraction of the nodes\n",
        "become active. <br>\n",
        "This forces the autoencoder to represent each input as a combination of small\n",
        "number of nodes, and demands it to discover interesting structure in the data."
      ],
      "metadata": {
        "id": "dEW55CQDMk4L"
      }
    },
    {
      "cell_type": "markdown",
      "source": [],
      "metadata": {
        "id": "TidwEXEILAJe"
      }
    },
    {
      "cell_type": "markdown",
      "source": [
        "creates a regular\n",
        "autoencoder and a regularized one so we can compare their outputs."
      ],
      "metadata": {
        "id": "eCbWnNClNYf2"
      }
    },
    {
      "cell_type": "code",
      "source": [
        "#Sparse = False used this to set up the central code layer\n",
        "autoencoder_standard, encoded_standard = auto_encoder_model(sparse=False)\n",
        "autoencoder_standard.compile(optimizer='adam',loss='binary_crossentropy')\n",
        "history_standard=autoencoder_standard.fit(x_train,x_train,epochs=3)\n",
        "\n",
        "#When specifying Sparse = True, we add another parameter called activity_regularizer by\n",
        "#specifying the regularization strength. This is typically a value in the range [0.001, 0.000001].\n",
        "autoencoder_regularized, encoded_regularized = auto_encoder_model(sparse=True,regval=10e-6)\n",
        "autoencoder_regularized.compile(optimizer='adam',loss='binary_crossentropy')\n",
        "history_regularized=autoencoder_regularized.fit(x_train,x_train,epochs=3)"
      ],
      "metadata": {
        "colab": {
          "base_uri": "https://localhost:8080/"
        },
        "id": "q6dH1__JMs9_",
        "outputId": "93d1a385-ecc7-4e0f-9090-42ea891a50b4"
      },
      "execution_count": 29,
      "outputs": [
        {
          "output_type": "stream",
          "name": "stdout",
          "text": [
            "Epoch 1/3\n",
            "1875/1875 [==============================] - 6s 3ms/step - loss: 0.1367\n",
            "Epoch 2/3\n",
            "1875/1875 [==============================] - 7s 4ms/step - loss: 0.0974\n",
            "Epoch 3/3\n",
            "1875/1875 [==============================] - 5s 3ms/step - loss: 0.0924\n",
            "Epoch 1/3\n",
            "1875/1875 [==============================] - 7s 3ms/step - loss: 0.1360\n",
            "Epoch 2/3\n",
            "1875/1875 [==============================] - 5s 3ms/step - loss: 0.0986\n",
            "Epoch 3/3\n",
            "1875/1875 [==============================] - 6s 3ms/step - loss: 0.0933\n"
          ]
        }
      ]
    },
    {
      "cell_type": "markdown",
      "source": [
        "compare the reconstructed images with the original images for the two models"
      ],
      "metadata": {
        "id": "9CI_osG0OBx1"
      }
    },
    {
      "cell_type": "code",
      "source": [
        "print(\"Standard AutoEncoder Comparison\")\n",
        "plot_image_comparison(x_test, autoencoder_standard.predict(x_test))\n",
        "print(\"Regularized AutoEncoder Comparison\")\n",
        "plot_image_comparison(x_test, autoencoder_regularized.predict(x_test))"
      ],
      "metadata": {
        "colab": {
          "base_uri": "https://localhost:8080/",
          "height": 777
        },
        "id": "aOL7F0y3ODl_",
        "outputId": "ec975d45-912c-4acf-c5bc-8b82c7379f3e"
      },
      "execution_count": 30,
      "outputs": [
        {
          "output_type": "stream",
          "name": "stdout",
          "text": [
            "Standard AutoEncoder Comparison\n",
            "313/313 [==============================] - 1s 2ms/step\n",
            "313/313 [==============================] - 1s 2ms/step\n",
            "Regularized AutoEncoder Comparison\n",
            "313/313 [==============================] - 1s 2ms/step\n",
            "313/313 [==============================] - 0s 2ms/step\n"
          ]
        },
        {
          "output_type": "display_data",
          "data": {
            "text/plain": [
              "<Figure size 1000x450 with 10 Axes>"
            ],
            "image/png": "[encoded data removed]"
          },
          "metadata": {}
        },
        {
          "output_type": "display_data",
          "data": {
            "text/plain": [
              "<Figure size 1000x450 with 10 Axes>"
            ],
            "image/png": "[encoded data removed]"
          },
          "metadata": {}
        }
      ]
    },
    {
      "cell_type": "markdown",
      "source": [
        "Comparing the loss histories of the two models"
      ],
      "metadata": {
        "id": "6WLTx0AxOj6C"
      }
    },
    {
      "cell_type": "code",
      "source": [
        "print('Standard Loss History')\n",
        "print(history_standard.history.items())\n",
        "print('Loss History with Regularization')\n",
        "print(history_regularized.history.items())"
      ],
      "metadata": {
        "colab": {
          "base_uri": "https://localhost:8080/"
        },
        "id": "R0XZb7Y4Ok8S",
        "outputId": "9087a035-5943-4e6c-a51f-db536d34c262"
      },
      "execution_count": 31,
      "outputs": [
        {
          "output_type": "stream",
          "name": "stdout",
          "text": [
            "Standard Loss History\n",
            "dict_items([('loss', [0.1366778016090393, 0.09736019372940063, 0.09244412928819656])])\n",
            "Loss History with Regularization\n",
            "dict_items([('loss', [0.13601544499397278, 0.09857915341854095, 0.09327603131532669])])\n"
          ]
        }
      ]
    },
    {
      "cell_type": "markdown",
      "source": [
        "intermediate representations of the images from the code layer and we want to see how the values\n",
        "vary between the two images by using the histogram of code values for the images in the test set."
      ],
      "metadata": {
        "id": "X5YQV50NOsTt"
      }
    },
    {
      "cell_type": "code",
      "source": [
        "standard_scores = encoded_standard.predict(x_test).ravel()\n",
        "regularized_scores = encoded_regularized.predict(x_test).ravel()\n",
        "print('Standard model mean values %0.3f with stdev %0.3f' % (standard_scores.mean(), standard_scores.std()))\n",
        "print('Regularized model mean values %0.3f with stdev %0.3f' % (regularized_scores.mean(), regularized_scores.std()))\n",
        "\n",
        "sns.distplot(standard_scores, hist=False, label='standard model')\n",
        "sns.distplot(regularized_scores, hist=False, label='regularized model')\n",
        "\n",
        "plt.legend()"
      ],
      "metadata": {
        "colab": {
          "base_uri": "https://localhost:8080/",
          "height": 518
        },
        "id": "2dh1CsYoOxhV",
        "outputId": "84df11bd-9bb0-4354-f544-6d7bde2c88c4"
      },
      "execution_count": 32,
      "outputs": [
        {
          "output_type": "stream",
          "name": "stdout",
          "text": [
            "313/313 [==============================] - 0s 1ms/step\n",
            "313/313 [==============================] - 0s 1ms/step\n",
            "Standard model mean values 7.445 with stdev 4.183\n",
            "Regularized model mean values 4.880 with stdev 2.855\n"
          ]
        },
        {
          "output_type": "execute_result",
          "data": {
            "text/plain": [
              "<matplotlib.legend.Legend at 0x7ec3f80e8b50>"
            ]
          },
          "metadata": {},
          "execution_count": 32
        },
        {
          "output_type": "display_data",
          "data": {
            "text/plain": [
              "<Figure size 640x480 with 1 Axes>"
            ],
            "image/png": "[encoded data removed]"
          },
          "metadata": {}
        }
      ]
    },
    {
      "cell_type": "code",
      "source": [
        "#Number of values up to each range\n",
        "ss=[]\n",
        "rs=[]\n",
        "\n",
        "for i in range(10):\n",
        "  ss.append(sum(abs(standard_scores)<=i))\n",
        "  rs.append(sum(abs(regularized_scores)<=i))\n",
        "\n",
        "print(\"up to a value of %2d, there are %6d instances in original model and %6d in the regularized model\" % (i,ss[i],rs[i]))"
      ],
      "metadata": {
        "colab": {
          "base_uri": "https://localhost:8080/"
        },
        "id": "KTC7tFUdPGaG",
        "outputId": "3f422058-c651-4040-960d-5ec8437b8235"
      },
      "execution_count": 33,
      "outputs": [
        {
          "output_type": "stream",
          "name": "stdout",
          "text": [
            "up to a value of  9, there are 214667 instances in original model and 291900 in the regularized model\n"
          ]
        }
      ]
    }
  ]
}